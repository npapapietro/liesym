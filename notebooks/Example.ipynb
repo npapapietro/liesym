{
 "cells": [
  {
   "cell_type": "code",
   "execution_count": 19,
   "metadata": {},
   "outputs": [],
   "source": [
    "import os\n",
    "os.chdir(\"..\")\n",
    "\n",
    "import liesym as ls\n",
    "from sympy import Matrix, Rational"
   ]
  },
  {
   "source": [
    "#### Cartan Matrix"
   ],
   "cell_type": "markdown",
   "metadata": {}
  },
  {
   "cell_type": "code",
   "execution_count": 20,
   "metadata": {},
   "outputs": [
    {
     "output_type": "execute_result",
     "data": {
      "text/plain": [
       "Matrix([\n",
       "[ 2, -1,  0],\n",
       "[-1,  2, -1],\n",
       "[ 0, -1,  2]])"
      ],
      "text/latex": "$\\displaystyle \\left[\\begin{matrix}2 & -1 & 0\\\\-1 & 2 & -1\\\\0 & -1 & 2\\end{matrix}\\right]$"
     },
     "metadata": {},
     "execution_count": 20
    }
   ],
   "source": [
    "\n",
    "A3 = ls.A(3)\n",
    "A3.cartan_matrix\n",
    "\n"
   ]
  },
  {
   "source": [
    "#### Positive Roots"
   ],
   "cell_type": "markdown",
   "metadata": {}
  },
  {
   "cell_type": "code",
   "execution_count": 21,
   "metadata": {},
   "outputs": [
    {
     "output_type": "execute_result",
     "data": {
      "text/plain": [
       "[Matrix([[1, 0, 1]]),\n",
       " Matrix([[-1, 1, 1]]),\n",
       " Matrix([[1, 1, -1]]),\n",
       " Matrix([[-1, 2, -1]]),\n",
       " Matrix([[0, -1, 2]]),\n",
       " Matrix([[2, -1, 0]])]"
      ]
     },
     "metadata": {},
     "execution_count": 21
    }
   ],
   "source": [
    "A3.positive_roots\n"
   ]
  },
  {
   "source": [
    "#### Simple Roots"
   ],
   "cell_type": "markdown",
   "metadata": {}
  },
  {
   "cell_type": "code",
   "execution_count": 22,
   "metadata": {},
   "outputs": [
    {
     "output_type": "execute_result",
     "data": {
      "text/plain": [
       "[Matrix([[1, -1, 0, 0]]), Matrix([[0, 1, -1, 0]]), Matrix([[0, 0, 1, -1]])]"
      ]
     },
     "metadata": {},
     "execution_count": 22
    }
   ],
   "source": [
    "A3.simple_roots"
   ]
  },
  {
   "source": [
    "#### Fundamental Weights"
   ],
   "cell_type": "markdown",
   "metadata": {}
  },
  {
   "cell_type": "code",
   "execution_count": 23,
   "metadata": {},
   "outputs": [
    {
     "output_type": "execute_result",
     "data": {
      "text/plain": [
       "[Matrix([[3/4, -1/4, -1/4, -1/4]]),\n",
       " Matrix([[1/2, 1/2, -1/2, -1/2]]),\n",
       " Matrix([[1/4, 1/4, 1/4, -3/4]])]"
      ]
     },
     "metadata": {},
     "execution_count": 23
    }
   ],
   "source": [
    "A3.fundamental_weights # Orthogonal Basis"
   ]
  },
  {
   "source": [
    "#### Dimension of representation\n",
    "  "
   ],
   "cell_type": "markdown",
   "metadata": {}
  },
  {
   "cell_type": "code",
   "execution_count": 24,
   "metadata": {},
   "outputs": [
    {
     "output_type": "stream",
     "name": "stdout",
     "text": [
      "Dim | Rep (Omega)\n---------\n  4 | Matrix([[1, 0, 0]])\n  6 | Matrix([[0, 1, 0]])\n  4 | Matrix([[0, 0, 1]])\n"
     ]
    }
   ],
   "source": [
    "\n",
    "print(\"Dim | Rep (Omega)\")\n",
    "print(\"---------\")\n",
    "for i in A3.fundamental_weights:\n",
    "    print(\" \", A3.dim(i), \"|\", A3.to_omega(i))"
   ]
  },
  {
   "source": [
    "#### Name of rep\n",
    "\n",
    "Commonly in literature (especially physics), names of the reps are the dimension rather than the matrix rep."
   ],
   "cell_type": "markdown",
   "metadata": {}
  },
  {
   "cell_type": "code",
   "execution_count": 25,
   "metadata": {},
   "outputs": [
    {
     "output_type": "execute_result",
     "data": {
      "text/plain": [
       "\\bar{4}"
      ],
      "text/latex": "$\\displaystyle \\bar{4}$"
     },
     "metadata": {},
     "execution_count": 25
    }
   ],
   "source": [
    "A3.dim_name(Matrix([[0, 0, 1]]))"
   ]
  },
  {
   "cell_type": "code",
   "execution_count": 26,
   "metadata": {},
   "outputs": [
    {
     "output_type": "execute_result",
     "data": {
      "text/plain": [
       "Matrix([[0, 0, 1]])"
      ],
      "text/latex": "$\\displaystyle \\left[\\begin{matrix}0 & 0 & 1\\end{matrix}\\right]$"
     },
     "metadata": {},
     "execution_count": 26
    }
   ],
   "source": [
    "A3.irrep_lookup(r\"\\bar{4}\")"
   ]
  },
  {
   "source": [
    "#### Tensor product decomps\n",
    "\n",
    "The decomp of irreps from a product of irreps"
   ],
   "cell_type": "markdown",
   "metadata": {}
  },
  {
   "cell_type": "code",
   "execution_count": 34,
   "metadata": {},
   "outputs": [
    {
     "output_type": "stream",
     "name": "stdout",
     "text": [
      "Rep: Matrix([[0, 1, 0]]) Dim Name: 6\nRep: Matrix([[2, 0, 0]]) Dim Name: \\bar{10}\n"
     ]
    }
   ],
   "source": [
    "results = A3.tensor_product_decomposition([\n",
    "    Matrix([[1,0,0]]),\n",
    "    Matrix([[1,0,0]]),\n",
    "])\n",
    "\n",
    "for i in results:\n",
    "    print(\"Rep:\", A3.to_omega(i),\"Dim Name:\", A3.dim_name(i))"
   ]
  },
  {
   "cell_type": "code",
   "execution_count": null,
   "metadata": {},
   "outputs": [],
   "source": []
  }
 ],
 "metadata": {
  "kernelspec": {
   "name": "python3",
   "display_name": "Python 3.8.5 64-bit ('base': conda)"
  },
  "language_info": {
   "codemirror_mode": {
    "name": "ipython",
    "version": 3
   },
   "file_extension": ".py",
   "mimetype": "text/x-python",
   "name": "python",
   "nbconvert_exporter": "python",
   "pygments_lexer": "ipython3",
   "version": "3.8.5"
  },
  "orig_nbformat": 2,
  "interpreter": {
   "hash": "cb415529c3b446cd5ca1eb46a1bc560260efe8bdfadabb86beaeb2edbe87a219"
  }
 },
 "nbformat": 4,
 "nbformat_minor": 2
}