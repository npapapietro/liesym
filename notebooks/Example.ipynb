{
 "cells": [
  {
   "cell_type": "code",
   "execution_count": null,
   "source": [
    "import os\n",
    "os.chdir(\"..\")\n",
    "\n",
    "import liesym as ls\n",
    "from sympy import Matrix, Rational"
   ],
   "outputs": [],
   "metadata": {}
  },
  {
   "cell_type": "markdown",
   "source": [
    "#### Cartan Matrix"
   ],
   "metadata": {}
  },
  {
   "cell_type": "code",
   "execution_count": null,
   "source": [
    "\n",
    "A3 = ls.A(3)\n",
    "A3.cartan_matrix\n",
    "\n"
   ],
   "outputs": [],
   "metadata": {}
  },
  {
   "cell_type": "markdown",
   "source": [
    "#### Positive Roots"
   ],
   "metadata": {}
  },
  {
   "cell_type": "code",
   "execution_count": null,
   "source": [
    "A3.positive_roots\n"
   ],
   "outputs": [],
   "metadata": {}
  },
  {
   "cell_type": "markdown",
   "source": [
    "#### Simple Roots"
   ],
   "metadata": {}
  },
  {
   "cell_type": "code",
   "execution_count": null,
   "source": [
    "A3.simple_roots"
   ],
   "outputs": [],
   "metadata": {}
  },
  {
   "cell_type": "markdown",
   "source": [
    "#### Fundamental Weights"
   ],
   "metadata": {}
  },
  {
   "cell_type": "code",
   "execution_count": null,
   "source": [
    "A3.fundamental_weights # Orthogonal Basis"
   ],
   "outputs": [],
   "metadata": {}
  },
  {
   "cell_type": "markdown",
   "source": [
    "#### Dimension of representation\n",
    "  "
   ],
   "metadata": {}
  },
  {
   "cell_type": "code",
   "execution_count": null,
   "source": [
    "\n",
    "print(\"Dim | Rep (Omega)\")\n",
    "print(\"---------\")\n",
    "for i in A3.fundamental_weights:\n",
    "    print(\" \", A3.dim(i), \"|\", A3.to_omega(i))"
   ],
   "outputs": [],
   "metadata": {}
  },
  {
   "cell_type": "markdown",
   "source": [
    "#### Name of rep\n",
    "\n",
    "Commonly in literature (especially physics), names of the reps are the dimension rather than the matrix rep."
   ],
   "metadata": {}
  },
  {
   "cell_type": "code",
   "execution_count": null,
   "source": [
    "A3.dim_name(Matrix([[0, 0, 1]]))"
   ],
   "outputs": [],
   "metadata": {}
  },
  {
   "cell_type": "code",
   "execution_count": null,
   "source": [
    "A3.irrep_lookup(r\"\\bar{4}\")"
   ],
   "outputs": [],
   "metadata": {}
  },
  {
   "cell_type": "markdown",
   "source": [
    "#### Tensor product decomps\n",
    "\n",
    "The decomp of irreps from a product of irreps"
   ],
   "metadata": {}
  },
  {
   "cell_type": "code",
   "execution_count": null,
   "source": [
    "results = A3.tensor_product_decomposition([\n",
    "    Matrix([[1,0,0]]),\n",
    "    Matrix([[1,0,0]]),\n",
    "])\n",
    "\n",
    "for i in results:\n",
    "    print(\"Rep:\", A3.to_omega(i),\"Dim Name:\", A3.dim_name(i))"
   ],
   "outputs": [],
   "metadata": {}
  },
  {
   "cell_type": "markdown",
   "source": [
    "#### Lie Groups\n",
    "\n",
    "Currently supports SU(N), SO(N), Sp(N)"
   ],
   "metadata": {}
  },
  {
   "cell_type": "code",
   "execution_count": null,
   "source": [
    "su2 = ls.SU(2)\n",
    "su2.generators()"
   ],
   "outputs": [],
   "metadata": {}
  },
  {
   "cell_type": "markdown",
   "source": [
    "Structure constants. SU(2) structure constants are $e_{ijk}$"
   ],
   "metadata": {}
  },
  {
   "cell_type": "code",
   "execution_count": null,
   "source": [
    "su2.structure_constants()"
   ],
   "outputs": [],
   "metadata": {}
  }
 ],
 "metadata": {
  "kernelspec": {
   "name": "python3",
   "display_name": "Python 3.8.5 64-bit ('base': conda)"
  },
  "language_info": {
   "codemirror_mode": {
    "name": "ipython",
    "version": 3
   },
   "file_extension": ".py",
   "mimetype": "text/x-python",
   "name": "python",
   "nbconvert_exporter": "python",
   "pygments_lexer": "ipython3",
   "version": "3.8.5"
  },
  "orig_nbformat": 2,
  "interpreter": {
   "hash": "cb415529c3b446cd5ca1eb46a1bc560260efe8bdfadabb86beaeb2edbe87a219"
  }
 },
 "nbformat": 4,
 "nbformat_minor": 2
}