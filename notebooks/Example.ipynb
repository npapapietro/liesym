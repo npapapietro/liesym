{
 "cells": [
  {
   "cell_type": "code",
   "execution_count": 1,
   "source": [
    "import os\n",
    "os.chdir(\"..\")\n",
    "\n",
    "import liesym as ls\n",
    "from sympy import Matrix, Rational"
   ],
   "outputs": [],
   "metadata": {}
  },
  {
   "cell_type": "markdown",
   "source": [
    "#### Cartan Matrix"
   ],
   "metadata": {}
  },
  {
   "cell_type": "code",
   "execution_count": 2,
   "source": [
    "\n",
    "A3 = ls.A(3)\n",
    "A3.cartan_matrix\n",
    "\n"
   ],
   "outputs": [
    {
     "output_type": "execute_result",
     "data": {
      "text/plain": [
       "Matrix([\n",
       "[ 2, -1,  0],\n",
       "[-1,  2, -1],\n",
       "[ 0, -1,  2]])"
      ],
      "text/latex": [
       "$\\displaystyle \\left[\\begin{matrix}2 & -1 & 0\\\\-1 & 2 & -1\\\\0 & -1 & 2\\end{matrix}\\right]$"
      ]
     },
     "metadata": {},
     "execution_count": 2
    }
   ],
   "metadata": {}
  },
  {
   "cell_type": "markdown",
   "source": [
    "#### Positive Roots"
   ],
   "metadata": {}
  },
  {
   "cell_type": "code",
   "execution_count": 3,
   "source": [
    "A3.positive_roots\n"
   ],
   "outputs": [
    {
     "output_type": "execute_result",
     "data": {
      "text/plain": [
       "[Matrix([[1, 0, 1]]),\n",
       " Matrix([[-1, 1, 1]]),\n",
       " Matrix([[1, 1, -1]]),\n",
       " Matrix([[-1, 2, -1]]),\n",
       " Matrix([[0, -1, 2]]),\n",
       " Matrix([[2, -1, 0]])]"
      ]
     },
     "metadata": {},
     "execution_count": 3
    }
   ],
   "metadata": {}
  },
  {
   "cell_type": "markdown",
   "source": [
    "#### Simple Roots"
   ],
   "metadata": {}
  },
  {
   "cell_type": "code",
   "execution_count": 4,
   "source": [
    "A3.simple_roots"
   ],
   "outputs": [
    {
     "output_type": "execute_result",
     "data": {
      "text/plain": [
       "[Matrix([[1, -1, 0, 0]]), Matrix([[0, 1, -1, 0]]), Matrix([[0, 0, 1, -1]])]"
      ]
     },
     "metadata": {},
     "execution_count": 4
    }
   ],
   "metadata": {}
  },
  {
   "cell_type": "markdown",
   "source": [
    "#### Fundamental Weights"
   ],
   "metadata": {}
  },
  {
   "cell_type": "code",
   "execution_count": 5,
   "source": [
    "A3.fundamental_weights # Orthogonal Basis"
   ],
   "outputs": [
    {
     "output_type": "execute_result",
     "data": {
      "text/plain": [
       "[Matrix([[3/4, -1/4, -1/4, -1/4]]),\n",
       " Matrix([[1/2, 1/2, -1/2, -1/2]]),\n",
       " Matrix([[1/4, 1/4, 1/4, -3/4]])]"
      ]
     },
     "metadata": {},
     "execution_count": 5
    }
   ],
   "metadata": {}
  },
  {
   "cell_type": "markdown",
   "source": [
    "#### Dimension of representation\n",
    "  "
   ],
   "metadata": {}
  },
  {
   "cell_type": "code",
   "execution_count": 6,
   "source": [
    "\n",
    "print(\"Dim | Rep (Omega)\")\n",
    "print(\"---------\")\n",
    "for i in A3.fundamental_weights:\n",
    "    print(\" \", A3.dim(i), \"|\", A3.to_omega(i))"
   ],
   "outputs": [
    {
     "output_type": "stream",
     "name": "stdout",
     "text": [
      "Dim | Rep (Omega)\n",
      "---------\n",
      "  4 | Matrix([[1, 0, 0]])\n",
      "  6 | Matrix([[0, 1, 0]])\n",
      "  4 | Matrix([[0, 0, 1]])\n"
     ]
    }
   ],
   "metadata": {}
  },
  {
   "cell_type": "markdown",
   "source": [
    "#### Name of rep\n",
    "\n",
    "Commonly in literature (especially physics), names of the reps are the dimension rather than the matrix rep."
   ],
   "metadata": {}
  },
  {
   "cell_type": "code",
   "execution_count": 7,
   "source": [
    "A3.dim_name(Matrix([[0, 0, 1]]))"
   ],
   "outputs": [
    {
     "output_type": "execute_result",
     "data": {
      "text/plain": [
       "\\bar{4}"
      ],
      "text/latex": [
       "$\\displaystyle \\bar{4}$"
      ]
     },
     "metadata": {},
     "execution_count": 7
    }
   ],
   "metadata": {}
  },
  {
   "cell_type": "code",
   "execution_count": 8,
   "source": [
    "A3.irrep_lookup(r\"\\bar{4}\")"
   ],
   "outputs": [
    {
     "output_type": "execute_result",
     "data": {
      "text/plain": [
       "Matrix([[0, 0, 1]])"
      ],
      "text/latex": [
       "$\\displaystyle \\left[\\begin{matrix}0 & 0 & 1\\end{matrix}\\right]$"
      ]
     },
     "metadata": {},
     "execution_count": 8
    }
   ],
   "metadata": {}
  },
  {
   "cell_type": "markdown",
   "source": [
    "#### Tensor product decomps\n",
    "\n",
    "The decomp of irreps from a product of irreps"
   ],
   "metadata": {}
  },
  {
   "cell_type": "code",
   "execution_count": 9,
   "source": [
    "results = A3.tensor_product_decomposition([\n",
    "    Matrix([[1,0,0]]),\n",
    "    Matrix([[1,0,0]]),\n",
    "])\n",
    "\n",
    "for i in results:\n",
    "    print(\"Rep:\", A3.to_omega(i),\"Dim Name:\", A3.dim_name(i))"
   ],
   "outputs": [
    {
     "output_type": "stream",
     "name": "stdout",
     "text": [
      "Rep: Matrix([[0, 1, 0]]) Dim Name: 6\n",
      "Rep: Matrix([[2, 0, 0]]) Dim Name: \\bar{10}\n"
     ]
    }
   ],
   "metadata": {}
  },
  {
   "cell_type": "markdown",
   "source": [
    "#### Lie Groups\n",
    "\n",
    "Currently supports SU(N), SO(N), Sp(N)"
   ],
   "metadata": {}
  },
  {
   "cell_type": "code",
   "execution_count": 10,
   "source": [
    "su2 = ls.SU(2)\n",
    "su2.generators()"
   ],
   "outputs": [
    {
     "output_type": "execute_result",
     "data": {
      "text/plain": [
       "[Matrix([\n",
       " [  0, 1/2],\n",
       " [1/2,   0]]),\n",
       " Matrix([\n",
       " [  0, -I/2],\n",
       " [I/2,    0]]),\n",
       " Matrix([\n",
       " [1/2,    0],\n",
       " [  0, -1/2]])]"
      ]
     },
     "metadata": {},
     "execution_count": 10
    }
   ],
   "metadata": {}
  },
  {
   "cell_type": "markdown",
   "source": [
    "Structure constants. SU(2) structure constants are $e_{ijk}$"
   ],
   "metadata": {}
  },
  {
   "cell_type": "code",
   "execution_count": 11,
   "source": [
    "su2.structure_constants()"
   ],
   "outputs": [
    {
     "output_type": "execute_result",
     "data": {
      "text/plain": [
       "[[[0, 0, 0], [0, 0, 1], [0, -1, 0]], [[0, 0, -1], [0, 0, 0], [1, 0, 0]], [[0, 1, 0], [-1, 0, 0], [0, 0, 0]]]"
      ],
      "text/latex": [
       "$\\displaystyle \\left[\\begin{matrix}\\left[\\begin{matrix}0 & 0 & 0\\\\0 & 0 & 1\\\\0 & -1 & 0\\end{matrix}\\right] & \\left[\\begin{matrix}0 & 0 & -1\\\\0 & 0 & 0\\\\1 & 0 & 0\\end{matrix}\\right] & \\left[\\begin{matrix}0 & 1 & 0\\\\-1 & 0 & 0\\\\0 & 0 & 0\\end{matrix}\\right]\\end{matrix}\\right]$"
      ]
     },
     "metadata": {},
     "execution_count": 11
    }
   ],
   "metadata": {}
  },
  {
   "cell_type": "code",
   "execution_count": 12,
   "source": [
    "su3 = ls.SU(3)\n",
    "\n",
    "su3.d_coeffecients()"
   ],
   "outputs": [
    {
     "output_type": "execute_result",
     "data": {
      "text/plain": [
       "[[[0, 0, 0, 0, 0, 0, 0, sqrt(3)/3], [0, 0, 1/2, 0, 0, 0, 0, 0], [0, 1/2, 0, 0, 0, 0, 0, 0], [0, 0, 0, 0, 0, 0, 0, 0], [0, 0, 0, 0, 0, 1/2, 0, 0], [0, 0, 0, 0, 1/2, 0, 0, 0], [0, 0, 0, 0, 0, 0, 0, 0], [sqrt(3)/3, 0, 0, 0, 0, 0, 0, 0]], [[0, 0, 1/2, 0, 0, 0, 0, 0], [0, 0, 0, 0, 0, 0, 1/2, -sqrt(3)/6], [1/2, 0, 0, 0, 0, 0, 0, 0], [0, 0, 0, 0, 0, -1/2, 0, 0], [0, 0, 0, 0, 0, 0, 0, 0], [0, 0, 0, -1/2, 0, 0, 0, 0], [0, 1/2, 0, 0, 0, 0, 0, 0], [0, -sqrt(3)/6, 0, 0, 0, 0, 0, 0]], [[0, 1/2, 0, 0, 0, 0, 0, 0], [1/2, 0, 0, 0, 0, 0, 0, 0], [0, 0, 0, 0, 0, 0, -1/2, -sqrt(3)/6], [0, 0, 0, 0, 1/2, 0, 0, 0], [0, 0, 0, 1/2, 0, 0, 0, 0], [0, 0, 0, 0, 0, 0, 0, 0], [0, 0, -1/2, 0, 0, 0, 0, 0], [0, 0, -sqrt(3)/6, 0, 0, 0, 0, 0]], [[0, 0, 0, 0, 0, 0, 0, 0], [0, 0, 0, 0, 0, -1/2, 0, 0], [0, 0, 0, 0, 1/2, 0, 0, 0], [0, 0, 0, 0, 0, 0, 0, sqrt(3)/3], [0, 0, 1/2, 0, 0, 0, 0, 0], [0, -1/2, 0, 0, 0, 0, 0, 0], [0, 0, 0, 0, 0, 0, 0, 0], [0, 0, 0, sqrt(3)/3, 0, 0, 0, 0]], [[0, 0, 0, 0, 0, 1/2, 0, 0], [0, 0, 0, 0, 0, 0, 0, 0], [0, 0, 0, 1/2, 0, 0, 0, 0], [0, 0, 1/2, 0, 0, 0, 0, 0], [0, 0, 0, 0, 0, 0, 1/2, -sqrt(3)/6], [1/2, 0, 0, 0, 0, 0, 0, 0], [0, 0, 0, 0, 1/2, 0, 0, 0], [0, 0, 0, 0, -sqrt(3)/6, 0, 0, 0]], [[0, 0, 0, 0, 1/2, 0, 0, 0], [0, 0, 0, -1/2, 0, 0, 0, 0], [0, 0, 0, 0, 0, 0, 0, 0], [0, -1/2, 0, 0, 0, 0, 0, 0], [1/2, 0, 0, 0, 0, 0, 0, 0], [0, 0, 0, 0, 0, 0, -1/2, -sqrt(3)/6], [0, 0, 0, 0, 0, -1/2, 0, 0], [0, 0, 0, 0, 0, -sqrt(3)/6, 0, 0]], [[0, 0, 0, 0, 0, 0, 0, 0], [0, 1/2, 0, 0, 0, 0, 0, 0], [0, 0, -1/2, 0, 0, 0, 0, 0], [0, 0, 0, 0, 0, 0, 0, 0], [0, 0, 0, 0, 1/2, 0, 0, 0], [0, 0, 0, 0, 0, -1/2, 0, 0], [0, 0, 0, 0, 0, 0, 0, sqrt(3)/3], [0, 0, 0, 0, 0, 0, sqrt(3)/3, 0]], [[sqrt(3)/3, 0, 0, 0, 0, 0, 0, 0], [0, -sqrt(3)/6, 0, 0, 0, 0, 0, 0], [0, 0, -sqrt(3)/6, 0, 0, 0, 0, 0], [0, 0, 0, sqrt(3)/3, 0, 0, 0, 0], [0, 0, 0, 0, -sqrt(3)/6, 0, 0, 0], [0, 0, 0, 0, 0, -sqrt(3)/6, 0, 0], [0, 0, 0, 0, 0, 0, sqrt(3)/3, 0], [0, 0, 0, 0, 0, 0, 0, -sqrt(3)/3]]]"
      ],
      "text/latex": [
       "$\\displaystyle \\left[\\begin{matrix}\\left[\\begin{matrix}0 & 0 & 0 & 0 & 0 & 0 & 0 & \\frac{\\sqrt{3}}{3}\\\\0 & 0 & \\frac{1}{2} & 0 & 0 & 0 & 0 & 0\\\\0 & \\frac{1}{2} & 0 & 0 & 0 & 0 & 0 & 0\\\\0 & 0 & 0 & 0 & 0 & 0 & 0 & 0\\\\0 & 0 & 0 & 0 & 0 & \\frac{1}{2} & 0 & 0\\\\0 & 0 & 0 & 0 & \\frac{1}{2} & 0 & 0 & 0\\\\0 & 0 & 0 & 0 & 0 & 0 & 0 & 0\\\\\\frac{\\sqrt{3}}{3} & 0 & 0 & 0 & 0 & 0 & 0 & 0\\end{matrix}\\right] & \\left[\\begin{matrix}0 & 0 & \\frac{1}{2} & 0 & 0 & 0 & 0 & 0\\\\0 & 0 & 0 & 0 & 0 & 0 & \\frac{1}{2} & - \\frac{\\sqrt{3}}{6}\\\\\\frac{1}{2} & 0 & 0 & 0 & 0 & 0 & 0 & 0\\\\0 & 0 & 0 & 0 & 0 & - \\frac{1}{2} & 0 & 0\\\\0 & 0 & 0 & 0 & 0 & 0 & 0 & 0\\\\0 & 0 & 0 & - \\frac{1}{2} & 0 & 0 & 0 & 0\\\\0 & \\frac{1}{2} & 0 & 0 & 0 & 0 & 0 & 0\\\\0 & - \\frac{\\sqrt{3}}{6} & 0 & 0 & 0 & 0 & 0 & 0\\end{matrix}\\right] & \\left[\\begin{matrix}0 & \\frac{1}{2} & 0 & 0 & 0 & 0 & 0 & 0\\\\\\frac{1}{2} & 0 & 0 & 0 & 0 & 0 & 0 & 0\\\\0 & 0 & 0 & 0 & 0 & 0 & - \\frac{1}{2} & - \\frac{\\sqrt{3}}{6}\\\\0 & 0 & 0 & 0 & \\frac{1}{2} & 0 & 0 & 0\\\\0 & 0 & 0 & \\frac{1}{2} & 0 & 0 & 0 & 0\\\\0 & 0 & 0 & 0 & 0 & 0 & 0 & 0\\\\0 & 0 & - \\frac{1}{2} & 0 & 0 & 0 & 0 & 0\\\\0 & 0 & - \\frac{\\sqrt{3}}{6} & 0 & 0 & 0 & 0 & 0\\end{matrix}\\right] & \\left[\\begin{matrix}0 & 0 & 0 & 0 & 0 & 0 & 0 & 0\\\\0 & 0 & 0 & 0 & 0 & - \\frac{1}{2} & 0 & 0\\\\0 & 0 & 0 & 0 & \\frac{1}{2} & 0 & 0 & 0\\\\0 & 0 & 0 & 0 & 0 & 0 & 0 & \\frac{\\sqrt{3}}{3}\\\\0 & 0 & \\frac{1}{2} & 0 & 0 & 0 & 0 & 0\\\\0 & - \\frac{1}{2} & 0 & 0 & 0 & 0 & 0 & 0\\\\0 & 0 & 0 & 0 & 0 & 0 & 0 & 0\\\\0 & 0 & 0 & \\frac{\\sqrt{3}}{3} & 0 & 0 & 0 & 0\\end{matrix}\\right] & \\left[\\begin{matrix}0 & 0 & 0 & 0 & 0 & \\frac{1}{2} & 0 & 0\\\\0 & 0 & 0 & 0 & 0 & 0 & 0 & 0\\\\0 & 0 & 0 & \\frac{1}{2} & 0 & 0 & 0 & 0\\\\0 & 0 & \\frac{1}{2} & 0 & 0 & 0 & 0 & 0\\\\0 & 0 & 0 & 0 & 0 & 0 & \\frac{1}{2} & - \\frac{\\sqrt{3}}{6}\\\\\\frac{1}{2} & 0 & 0 & 0 & 0 & 0 & 0 & 0\\\\0 & 0 & 0 & 0 & \\frac{1}{2} & 0 & 0 & 0\\\\0 & 0 & 0 & 0 & - \\frac{\\sqrt{3}}{6} & 0 & 0 & 0\\end{matrix}\\right] & \\left[\\begin{matrix}0 & 0 & 0 & 0 & \\frac{1}{2} & 0 & 0 & 0\\\\0 & 0 & 0 & - \\frac{1}{2} & 0 & 0 & 0 & 0\\\\0 & 0 & 0 & 0 & 0 & 0 & 0 & 0\\\\0 & - \\frac{1}{2} & 0 & 0 & 0 & 0 & 0 & 0\\\\\\frac{1}{2} & 0 & 0 & 0 & 0 & 0 & 0 & 0\\\\0 & 0 & 0 & 0 & 0 & 0 & - \\frac{1}{2} & - \\frac{\\sqrt{3}}{6}\\\\0 & 0 & 0 & 0 & 0 & - \\frac{1}{2} & 0 & 0\\\\0 & 0 & 0 & 0 & 0 & - \\frac{\\sqrt{3}}{6} & 0 & 0\\end{matrix}\\right] & \\left[\\begin{matrix}0 & 0 & 0 & 0 & 0 & 0 & 0 & 0\\\\0 & \\frac{1}{2} & 0 & 0 & 0 & 0 & 0 & 0\\\\0 & 0 & - \\frac{1}{2} & 0 & 0 & 0 & 0 & 0\\\\0 & 0 & 0 & 0 & 0 & 0 & 0 & 0\\\\0 & 0 & 0 & 0 & \\frac{1}{2} & 0 & 0 & 0\\\\0 & 0 & 0 & 0 & 0 & - \\frac{1}{2} & 0 & 0\\\\0 & 0 & 0 & 0 & 0 & 0 & 0 & \\frac{\\sqrt{3}}{3}\\\\0 & 0 & 0 & 0 & 0 & 0 & \\frac{\\sqrt{3}}{3} & 0\\end{matrix}\\right] & \\left[\\begin{matrix}\\frac{\\sqrt{3}}{3} & 0 & 0 & 0 & 0 & 0 & 0 & 0\\\\0 & - \\frac{\\sqrt{3}}{6} & 0 & 0 & 0 & 0 & 0 & 0\\\\0 & 0 & - \\frac{\\sqrt{3}}{6} & 0 & 0 & 0 & 0 & 0\\\\0 & 0 & 0 & \\frac{\\sqrt{3}}{3} & 0 & 0 & 0 & 0\\\\0 & 0 & 0 & 0 & - \\frac{\\sqrt{3}}{6} & 0 & 0 & 0\\\\0 & 0 & 0 & 0 & 0 & - \\frac{\\sqrt{3}}{6} & 0 & 0\\\\0 & 0 & 0 & 0 & 0 & 0 & \\frac{\\sqrt{3}}{3} & 0\\\\0 & 0 & 0 & 0 & 0 & 0 & 0 & - \\frac{\\sqrt{3}}{3}\\end{matrix}\\right]\\end{matrix}\\right]$"
      ]
     },
     "metadata": {},
     "execution_count": 12
    }
   ],
   "metadata": {}
  },
  {
   "cell_type": "code",
   "execution_count": 13,
   "source": [
    "su3.structure_constants(0,1,5)"
   ],
   "outputs": [
    {
     "output_type": "execute_result",
     "data": {
      "text/plain": [
       "1/2"
      ],
      "text/latex": [
       "$\\displaystyle \\frac{1}{2}$"
      ]
     },
     "metadata": {},
     "execution_count": 13
    }
   ],
   "metadata": {}
  },
  {
   "cell_type": "code",
   "execution_count": 14,
   "source": [
    "g = su3.generators()\n",
    "2 * trace(g[0] * g[1] * g[5])"
   ],
   "outputs": [
    {
     "output_type": "error",
     "ename": "NameError",
     "evalue": "name 'trace' is not defined",
     "traceback": [
      "\u001b[0;31m---------------------------------------------------------------------------\u001b[0m",
      "\u001b[0;31mNameError\u001b[0m                                 Traceback (most recent call last)",
      "\u001b[0;32m<ipython-input-14-a88dccdd542a>\u001b[0m in \u001b[0;36m<module>\u001b[0;34m\u001b[0m\n\u001b[1;32m      1\u001b[0m \u001b[0mg\u001b[0m \u001b[0;34m=\u001b[0m \u001b[0msu3\u001b[0m\u001b[0;34m.\u001b[0m\u001b[0mgenerators\u001b[0m\u001b[0;34m(\u001b[0m\u001b[0;34m)\u001b[0m\u001b[0;34m\u001b[0m\u001b[0;34m\u001b[0m\u001b[0m\n\u001b[0;32m----> 2\u001b[0;31m \u001b[0;36m2\u001b[0m \u001b[0;34m*\u001b[0m \u001b[0mtrace\u001b[0m\u001b[0;34m(\u001b[0m\u001b[0mg\u001b[0m\u001b[0;34m[\u001b[0m\u001b[0;36m0\u001b[0m\u001b[0;34m]\u001b[0m \u001b[0;34m*\u001b[0m \u001b[0mg\u001b[0m\u001b[0;34m[\u001b[0m\u001b[0;36m1\u001b[0m\u001b[0;34m]\u001b[0m \u001b[0;34m*\u001b[0m \u001b[0mg\u001b[0m\u001b[0;34m[\u001b[0m\u001b[0;36m5\u001b[0m\u001b[0;34m]\u001b[0m\u001b[0;34m)\u001b[0m\u001b[0;34m\u001b[0m\u001b[0;34m\u001b[0m\u001b[0m\n\u001b[0m",
      "\u001b[0;31mNameError\u001b[0m: name 'trace' is not defined"
     ]
    }
   ],
   "metadata": {}
  },
  {
   "cell_type": "code",
   "execution_count": null,
   "source": [],
   "outputs": [],
   "metadata": {}
  }
 ],
 "metadata": {
  "kernelspec": {
   "name": "python3",
   "display_name": "Python 3.8.5 64-bit ('base': conda)"
  },
  "language_info": {
   "codemirror_mode": {
    "name": "ipython",
    "version": 3
   },
   "file_extension": ".py",
   "mimetype": "text/x-python",
   "name": "python",
   "nbconvert_exporter": "python",
   "pygments_lexer": "ipython3",
   "version": "3.8.5"
  },
  "orig_nbformat": 2,
  "interpreter": {
   "hash": "cb415529c3b446cd5ca1eb46a1bc560260efe8bdfadabb86beaeb2edbe87a219"
  }
 },
 "nbformat": 4,
 "nbformat_minor": 2
}