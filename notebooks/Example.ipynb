{
 "cells": [
  {
   "cell_type": "code",
   "execution_count": 1,
   "metadata": {},
   "outputs": [],
   "source": [
    "import os\n",
    "os.chdir(\"..\")\n",
    "\n",
    "import liesym as ls\n",
    "from sympy import Matrix, Rational"
   ]
  },
  {
   "cell_type": "markdown",
   "metadata": {},
   "source": [
    "#### Cartan Matrix"
   ]
  },
  {
   "cell_type": "code",
   "execution_count": 2,
   "metadata": {},
   "outputs": [
    {
     "data": {
      "text/latex": [
       "$\\displaystyle \\left[\\begin{matrix}2 & -1 & 0\\\\-1 & 2 & -1\\\\0 & -1 & 2\\end{matrix}\\right]$"
      ],
      "text/plain": [
       "Matrix([\n",
       "[ 2, -1,  0],\n",
       "[-1,  2, -1],\n",
       "[ 0, -1,  2]])"
      ]
     },
     "execution_count": 2,
     "metadata": {},
     "output_type": "execute_result"
    }
   ],
   "source": [
    "\n",
    "A3 = ls.A(3)\n",
    "A3.cartan_matrix\n",
    "\n"
   ]
  },
  {
   "cell_type": "markdown",
   "metadata": {},
   "source": [
    "#### Positive Roots"
   ]
  },
  {
   "cell_type": "code",
   "execution_count": 3,
   "metadata": {},
   "outputs": [
    {
     "data": {
      "text/plain": [
       "[Matrix([[1, 0, 0, -1]]),\n",
       " Matrix([[0, 1, 0, -1]]),\n",
       " Matrix([[1, 0, -1, 0]]),\n",
       " Matrix([[0, 1, -1, 0]]),\n",
       " Matrix([[0, 0, 1, -1]]),\n",
       " Matrix([[1, -1, 0, 0]])]"
      ]
     },
     "execution_count": 3,
     "metadata": {},
     "output_type": "execute_result"
    }
   ],
   "source": [
    "A3.positive_roots\n"
   ]
  },
  {
   "cell_type": "markdown",
   "metadata": {},
   "source": [
    "#### Simple Roots"
   ]
  },
  {
   "cell_type": "code",
   "execution_count": 4,
   "metadata": {},
   "outputs": [
    {
     "data": {
      "text/plain": [
       "[Matrix([[1, -1, 0, 0]]), Matrix([[0, 1, -1, 0]]), Matrix([[0, 0, 1, -1]])]"
      ]
     },
     "execution_count": 4,
     "metadata": {},
     "output_type": "execute_result"
    }
   ],
   "source": [
    "A3.simple_roots"
   ]
  },
  {
   "cell_type": "markdown",
   "metadata": {},
   "source": [
    "#### Fundamental Weights"
   ]
  },
  {
   "cell_type": "code",
   "execution_count": 5,
   "metadata": {},
   "outputs": [
    {
     "data": {
      "text/plain": [
       "[Matrix([[3/4, -1/4, -1/4, -1/4]]),\n",
       " Matrix([[1/2, 1/2, -1/2, -1/2]]),\n",
       " Matrix([[1/4, 1/4, 1/4, -3/4]])]"
      ]
     },
     "execution_count": 5,
     "metadata": {},
     "output_type": "execute_result"
    }
   ],
   "source": [
    "A3.fundamental_weights # Orthogonal Basis"
   ]
  },
  {
   "cell_type": "markdown",
   "metadata": {},
   "source": [
    "#### Dimension of representation\n",
    "  "
   ]
  },
  {
   "cell_type": "code",
   "execution_count": 6,
   "metadata": {},
   "outputs": [
    {
     "name": "stdout",
     "output_type": "stream",
     "text": [
      "Dim | Rep (Omega)\n",
      "---------\n",
      "  4 | Matrix([[1, 0, 0]])\n",
      "  6 | Matrix([[0, 1, 0]])\n",
      "  4 | Matrix([[0, 0, 1]])\n"
     ]
    }
   ],
   "source": [
    "\n",
    "print(\"Dim | Rep (Omega)\")\n",
    "print(\"---------\")\n",
    "for i in A3.fundamental_weights:\n",
    "    print(\" \", A3.dim(i), \"|\", A3.to_omega(i))"
   ]
  },
  {
   "cell_type": "markdown",
   "metadata": {},
   "source": [
    "#### Name of rep\n",
    "\n",
    "Commonly in literature (especially physics), names of the reps are the dimension rather than the matrix rep."
   ]
  },
  {
   "cell_type": "code",
   "execution_count": 7,
   "metadata": {},
   "outputs": [
    {
     "data": {
      "text/latex": [
       "$\\displaystyle \\bar{4}$"
      ],
      "text/plain": [
       "\\bar{4}"
      ]
     },
     "execution_count": 7,
     "metadata": {},
     "output_type": "execute_result"
    }
   ],
   "source": [
    "A3.dim_name(Matrix([[0, 0, 1]]))"
   ]
  },
  {
   "cell_type": "code",
   "execution_count": 8,
   "metadata": {},
   "outputs": [
    {
     "data": {
      "text/latex": [
       "$\\displaystyle \\left[\\begin{matrix}0 & 0 & 1\\end{matrix}\\right]$"
      ],
      "text/plain": [
       "Matrix([[0, 0, 1]])"
      ]
     },
     "execution_count": 8,
     "metadata": {},
     "output_type": "execute_result"
    }
   ],
   "source": [
    "A3.irrep_lookup(r\"\\bar{4}\")"
   ]
  },
  {
   "cell_type": "markdown",
   "metadata": {},
   "source": [
    "#### Tensor product decomps\n",
    "\n",
    "The decomp of irreps from a product of irreps"
   ]
  },
  {
   "cell_type": "code",
   "execution_count": 9,
   "metadata": {},
   "outputs": [
    {
     "name": "stdout",
     "output_type": "stream",
     "text": [
      "Rep: Matrix([[0, 1, 0]]) Dim Name: 6\n",
      "Rep: Matrix([[2, 0, 0]]) Dim Name: \\bar{10}\n"
     ]
    }
   ],
   "source": [
    "results = A3.tensor_product_decomposition([\n",
    "    Matrix([[1,0,0]]),\n",
    "    Matrix([[1,0,0]]),\n",
    "])\n",
    "\n",
    "for i in results:\n",
    "    print(\"Rep:\", A3.to_omega(i),\"Dim Name:\", A3.dim_name(i))"
   ]
  },
  {
   "cell_type": "markdown",
   "metadata": {},
   "source": [
    "#### Lie Groups\n",
    "\n",
    "Currently supports SU(N), SO(N), Sp(N)"
   ]
  },
  {
   "cell_type": "code",
   "execution_count": 10,
   "metadata": {},
   "outputs": [
    {
     "data": {
      "text/plain": [
       "[Matrix([\n",
       " [  0, 1/2],\n",
       " [1/2,   0]]),\n",
       " Matrix([\n",
       " [  0, -I/2],\n",
       " [I/2,    0]]),\n",
       " Matrix([\n",
       " [1/2,    0],\n",
       " [  0, -1/2]])]"
      ]
     },
     "execution_count": 10,
     "metadata": {},
     "output_type": "execute_result"
    }
   ],
   "source": [
    "su2 = ls.SU(2)\n",
    "su2.generators()"
   ]
  },
  {
   "cell_type": "code",
   "execution_count": 12,
   "metadata": {},
   "outputs": [
    {
     "data": {
      "text/plain": [
       "[Matrix([\n",
       " [1/2,    0],\n",
       " [  0, -1/2]])]"
      ]
     },
     "execution_count": 12,
     "metadata": {},
     "output_type": "execute_result"
    }
   ],
   "source": [
    "# cartan generators\n",
    "su2.generators(cartan_only=True)"
   ]
  },
  {
   "cell_type": "markdown",
   "metadata": {},
   "source": [
    "Structure constants. SU(2) structure constants are $e_{ijk}$"
   ]
  },
  {
   "cell_type": "code",
   "execution_count": null,
   "metadata": {},
   "outputs": [],
   "source": [
    "su2.structure_constants()"
   ]
  },
  {
   "cell_type": "code",
   "execution_count": null,
   "metadata": {},
   "outputs": [],
   "source": [
    "A1 = ls.A(1)\n",
    "[A1.to_omega(x) for x in A1.simple_roots]"
   ]
  },
  {
   "cell_type": "markdown",
   "metadata": {},
   "source": [
    "Quadratic Casimir"
   ]
  },
  {
   "cell_type": "code",
   "execution_count": null,
   "metadata": {},
   "outputs": [],
   "source": [
    "s = ls.Sp(6)\n",
    "r = s.algebra.fundamental_weights[0]\n",
    "s.quadratic_casimir(r)"
   ]
  }
 ],
 "metadata": {
  "interpreter": {
   "hash": "5471635f469f41433b301d5256993c6a4b0f571f368bb1ac44f1a447b68fe4bb"
  },
  "kernelspec": {
   "display_name": "Python 3.9.2 64-bit ('liesym': conda)",
   "name": "python3"
  },
  "language_info": {
   "codemirror_mode": {
    "name": "ipython",
    "version": 3
   },
   "file_extension": ".py",
   "mimetype": "text/x-python",
   "name": "python",
   "nbconvert_exporter": "python",
   "pygments_lexer": "ipython3",
   "version": "3.11.4"
  },
  "orig_nbformat": 2
 },
 "nbformat": 4,
 "nbformat_minor": 2
}
