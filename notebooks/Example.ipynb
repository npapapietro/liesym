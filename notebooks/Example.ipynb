{
 "cells": [
  {
   "cell_type": "code",
   "execution_count": 1,
   "source": [
    "import os\n",
    "os.chdir(\"..\")\n",
    "\n",
    "import liesym as ls\n",
    "from sympy import Matrix, Rational"
   ],
   "outputs": [],
   "metadata": {}
  },
  {
   "cell_type": "markdown",
   "source": [
    "#### Cartan Matrix"
   ],
   "metadata": {}
  },
  {
   "cell_type": "code",
   "execution_count": 2,
   "source": [
    "\n",
    "A3 = ls.A(3)\n",
    "A3.cartan_matrix\n",
    "\n"
   ],
   "outputs": [
    {
     "output_type": "execute_result",
     "data": {
      "text/latex": [
       "$\\displaystyle \\left[\\begin{matrix}2 & -1 & 0\\\\-1 & 2 & -1\\\\0 & -1 & 2\\end{matrix}\\right]$"
      ],
      "text/plain": [
       "Matrix([\n",
       "[ 2, -1,  0],\n",
       "[-1,  2, -1],\n",
       "[ 0, -1,  2]])"
      ]
     },
     "metadata": {},
     "execution_count": 2
    }
   ],
   "metadata": {}
  },
  {
   "cell_type": "markdown",
   "source": [
    "#### Positive Roots"
   ],
   "metadata": {}
  },
  {
   "cell_type": "code",
   "execution_count": 3,
   "source": [
    "A3.positive_roots\n"
   ],
   "outputs": [
    {
     "output_type": "execute_result",
     "data": {
      "text/plain": [
       "[Matrix([[1, 0, 0, -1]]),\n",
       " Matrix([[0, 1, 0, -1]]),\n",
       " Matrix([[1, 0, -1, 0]]),\n",
       " Matrix([[0, 1, -1, 0]]),\n",
       " Matrix([[0, 0, 1, -1]]),\n",
       " Matrix([[1, -1, 0, 0]])]"
      ]
     },
     "metadata": {},
     "execution_count": 3
    }
   ],
   "metadata": {}
  },
  {
   "cell_type": "markdown",
   "source": [
    "#### Simple Roots"
   ],
   "metadata": {}
  },
  {
   "cell_type": "code",
   "execution_count": 4,
   "source": [
    "A3.simple_roots"
   ],
   "outputs": [
    {
     "output_type": "execute_result",
     "data": {
      "text/plain": [
       "[Matrix([[1, -1, 0, 0]]), Matrix([[0, 1, -1, 0]]), Matrix([[0, 0, 1, -1]])]"
      ]
     },
     "metadata": {},
     "execution_count": 4
    }
   ],
   "metadata": {}
  },
  {
   "cell_type": "markdown",
   "source": [
    "#### Fundamental Weights"
   ],
   "metadata": {}
  },
  {
   "cell_type": "code",
   "execution_count": 5,
   "source": [
    "A3.fundamental_weights # Orthogonal Basis"
   ],
   "outputs": [
    {
     "output_type": "execute_result",
     "data": {
      "text/plain": [
       "[Matrix([[3/4, -1/4, -1/4, -1/4]]),\n",
       " Matrix([[1/2, 1/2, -1/2, -1/2]]),\n",
       " Matrix([[1/4, 1/4, 1/4, -3/4]])]"
      ]
     },
     "metadata": {},
     "execution_count": 5
    }
   ],
   "metadata": {}
  },
  {
   "cell_type": "markdown",
   "source": [
    "#### Dimension of representation\n",
    "  "
   ],
   "metadata": {}
  },
  {
   "cell_type": "code",
   "execution_count": 6,
   "source": [
    "\n",
    "print(\"Dim | Rep (Omega)\")\n",
    "print(\"---------\")\n",
    "for i in A3.fundamental_weights:\n",
    "    print(\" \", A3.dim(i), \"|\", A3.to_omega(i))"
   ],
   "outputs": [
    {
     "output_type": "stream",
     "name": "stdout",
     "text": [
      "Dim | Rep (Omega)\n",
      "---------\n",
      "  4 | Matrix([[1, 0, 0]])\n",
      "  6 | Matrix([[0, 1, 0]])\n",
      "  4 | Matrix([[0, 0, 1]])\n"
     ]
    }
   ],
   "metadata": {}
  },
  {
   "cell_type": "markdown",
   "source": [
    "#### Name of rep\n",
    "\n",
    "Commonly in literature (especially physics), names of the reps are the dimension rather than the matrix rep."
   ],
   "metadata": {}
  },
  {
   "cell_type": "code",
   "execution_count": 7,
   "source": [
    "A3.dim_name(Matrix([[0, 0, 1]]))"
   ],
   "outputs": [
    {
     "output_type": "execute_result",
     "data": {
      "text/latex": [
       "$\\displaystyle \\bar{4}$"
      ],
      "text/plain": [
       "\\bar{4}"
      ]
     },
     "metadata": {},
     "execution_count": 7
    }
   ],
   "metadata": {}
  },
  {
   "cell_type": "code",
   "execution_count": 8,
   "source": [
    "A3.irrep_lookup(r\"\\bar{4}\")"
   ],
   "outputs": [
    {
     "output_type": "execute_result",
     "data": {
      "text/latex": [
       "$\\displaystyle \\left[\\begin{matrix}0 & 0 & 1\\end{matrix}\\right]$"
      ],
      "text/plain": [
       "Matrix([[0, 0, 1]])"
      ]
     },
     "metadata": {},
     "execution_count": 8
    }
   ],
   "metadata": {}
  },
  {
   "cell_type": "markdown",
   "source": [
    "#### Tensor product decomps\n",
    "\n",
    "The decomp of irreps from a product of irreps"
   ],
   "metadata": {}
  },
  {
   "cell_type": "code",
   "execution_count": 9,
   "source": [
    "results = A3.tensor_product_decomposition([\n",
    "    Matrix([[1,0,0]]),\n",
    "    Matrix([[1,0,0]]),\n",
    "])\n",
    "\n",
    "for i in results:\n",
    "    print(\"Rep:\", A3.to_omega(i),\"Dim Name:\", A3.dim_name(i))"
   ],
   "outputs": [
    {
     "output_type": "stream",
     "name": "stdout",
     "text": [
      "Rep: Matrix([[0, 1, 0]]) Dim Name: 6\n",
      "Rep: Matrix([[2, 0, 0]]) Dim Name: \\bar{10}\n"
     ]
    }
   ],
   "metadata": {}
  },
  {
   "cell_type": "markdown",
   "source": [
    "#### Lie Groups\n",
    "\n",
    "Currently supports SU(N), SO(N), Sp(N)"
   ],
   "metadata": {}
  },
  {
   "cell_type": "code",
   "execution_count": 10,
   "source": [
    "su2 = ls.SU(2)\n",
    "su2.generators()"
   ],
   "outputs": [
    {
     "output_type": "execute_result",
     "data": {
      "text/plain": [
       "[Matrix([\n",
       " [  0, 1/2],\n",
       " [1/2,   0]]),\n",
       " Matrix([\n",
       " [  0, -I/2],\n",
       " [I/2,    0]]),\n",
       " Matrix([\n",
       " [1/2,    0],\n",
       " [  0, -1/2]])]"
      ]
     },
     "metadata": {},
     "execution_count": 10
    }
   ],
   "metadata": {}
  },
  {
   "cell_type": "markdown",
   "source": [
    "Structure constants. SU(2) structure constants are $e_{ijk}$"
   ],
   "metadata": {}
  },
  {
   "cell_type": "code",
   "execution_count": 11,
   "source": [
    "su2.structure_constants()"
   ],
   "outputs": [
    {
     "output_type": "execute_result",
     "data": {
      "text/latex": [
       "$\\displaystyle \\left[\\begin{matrix}\\left[\\begin{matrix}0 & 0 & 0\\\\0 & 0 & 1\\\\0 & -1 & 0\\end{matrix}\\right] & \\left[\\begin{matrix}0 & 0 & -1\\\\0 & 0 & 0\\\\1 & 0 & 0\\end{matrix}\\right] & \\left[\\begin{matrix}0 & 1 & 0\\\\-1 & 0 & 0\\\\0 & 0 & 0\\end{matrix}\\right]\\end{matrix}\\right]$"
      ],
      "text/plain": [
       "[[[0, 0, 0], [0, 0, 1], [0, -1, 0]], [[0, 0, -1], [0, 0, 0], [1, 0, 0]], [[0, 1, 0], [-1, 0, 0], [0, 0, 0]]]"
      ]
     },
     "metadata": {},
     "execution_count": 11
    }
   ],
   "metadata": {}
  },
  {
   "cell_type": "code",
   "execution_count": 22,
   "source": [
    "A1 = ls.A(1)\n",
    "[A1.to_omega(x) for x in A1.simple_roots]"
   ],
   "outputs": [
    {
     "output_type": "execute_result",
     "data": {
      "text/plain": [
       "[Matrix([[2]])]"
      ]
     },
     "metadata": {},
     "execution_count": 22
    }
   ],
   "metadata": {}
  },
  {
   "cell_type": "markdown",
   "source": [
    "Quadratic Casimir"
   ],
   "metadata": {}
  },
  {
   "cell_type": "code",
   "execution_count": null,
   "source": [
    "s = ls.Sp(6)\n",
    "r = s.algebra.fundamental_weights[0]\n",
    "s.quadratic_casimir(r)"
   ],
   "outputs": [
    {
     "output_type": "execute_result",
     "data": {
      "text/latex": [
       "$\\displaystyle \\frac{7}{2}$"
      ],
      "text/plain": [
       "7/2"
      ]
     },
     "metadata": {},
     "execution_count": 15
    }
   ],
   "metadata": {}
  },
  {
   "cell_type": "code",
   "execution_count": 23,
   "source": [
    "from liesym.algebras._backend import _rust_wrapper"
   ],
   "outputs": [],
   "metadata": {}
  }
 ],
 "metadata": {
  "kernelspec": {
   "name": "python3",
   "display_name": "Python 3.9.2 64-bit ('liesym': conda)"
  },
  "language_info": {
   "codemirror_mode": {
    "name": "ipython",
    "version": 3
   },
   "file_extension": ".py",
   "mimetype": "text/x-python",
   "name": "python",
   "nbconvert_exporter": "python",
   "pygments_lexer": "ipython3",
   "version": "3.9.2"
  },
  "orig_nbformat": 2,
  "interpreter": {
   "hash": "5471635f469f41433b301d5256993c6a4b0f571f368bb1ac44f1a447b68fe4bb"
  }
 },
 "nbformat": 4,
 "nbformat_minor": 2
}