{
 "cells": [
  {
   "cell_type": "code",
   "execution_count": 1,
   "metadata": {},
   "outputs": [],
   "source": [
    "%load_ext autoreload\n",
    "%autoreload 2\n",
    "\n",
    "import os\n",
    "os.chdir(\"..\")\n",
    "import liesym\n",
    "from sympy import Matrix, Rational\n",
    "\n"
   ]
  },
  {
   "cell_type": "code",
   "execution_count": 3,
   "metadata": {},
   "outputs": [],
   "source": [
    "B3 = liesym.B(3)"
   ]
  },
  {
   "cell_type": "code",
   "execution_count": 6,
   "metadata": {},
   "outputs": [
    {
     "output_type": "execute_result",
     "data": {
      "text/plain": [
       "[Matrix([[0, 0, 0]]),\n",
       " Matrix([[0, 1, 0]]),\n",
       " Matrix([[1, 0, 0]]),\n",
       " Matrix([[1, 0, 0]]),\n",
       " Matrix([[2, 0, 0]])]"
      ]
     },
     "metadata": {},
     "execution_count": 6
    }
   ],
   "source": [
    "weights = [\n",
    "    Matrix([[1,0,0]]), \n",
    "    Matrix([[1,0,0]]), \n",
    "    # Matrix([[1,0,0]]), \n",
    "    ]\n",
    "decomp = B3.tensor_product_decomposition(weights)\n",
    "decomp"
   ]
  },
  {
   "cell_type": "code",
   "execution_count": 4,
   "metadata": {},
   "outputs": [
    {
     "output_type": "stream",
     "name": "stdout",
     "text": [
      "Count 0 for Matrix([[0, 0, 1]]) result [Matrix([[0, 0, 0]]), Matrix([[1, 0, 1]])]\nCount 1 for Matrix([[1, 1, 0]]) result [Matrix([[0, 2, 0]]), Matrix([[1, 0, 1]]), Matrix([[2, 1, 0]])]\nCount 2 for Matrix([[0, 0, 1]]) result [Matrix([[0, 0, 0]]), Matrix([[1, 0, 1]])]\nCount 3 for Matrix([[0, 0, 1]]) result [Matrix([[0, 0, 0]]), Matrix([[1, 0, 1]])]\nCount 4 for Matrix([[1, 1, 0]]) result [Matrix([[0, 2, 0]]), Matrix([[1, 0, 1]]), Matrix([[2, 1, 0]])]\nCount 5 for Matrix([[3, 0, 0]]) result [Matrix([[2, 1, 0]]), Matrix([[4, 0, 0]])]\n"
     ]
    },
    {
     "output_type": "execute_result",
     "data": {
      "text/plain": [
       "14"
      ]
     },
     "metadata": {},
     "execution_count": 4
    }
   ],
   "source": [
    "r=[]\n",
    "for idx,i in enumerate(decomp):\n",
    "    result = A3.tensor_product_decomposition([i,  Matrix([[1,0,0]])])\n",
    "    print(\"Count\", idx, \"for\",i,\"result\", result)\n",
    "    r += result\n",
    "len(r)\n"
   ]
  },
  {
   "cell_type": "code",
   "execution_count": 5,
   "metadata": {},
   "outputs": [
    {
     "output_type": "execute_result",
     "data": {
      "text/plain": [
       "1"
      ]
     },
     "metadata": {},
     "execution_count": 5
    }
   ],
   "source": [
    "s = [1,2,3]\n",
    "s.pop(0)"
   ]
  },
  {
   "cell_type": "code",
   "execution_count": 6,
   "metadata": {},
   "outputs": [],
   "source": [
    "td = A3._backend_instance.tensor_product_decomposition"
   ]
  },
  {
   "cell_type": "code",
   "execution_count": 7,
   "metadata": {},
   "outputs": [
    {
     "output_type": "execute_result",
     "data": {
      "text/plain": [
       "[Matrix([[0, 1, 0]]), Matrix([[2, 0, 0]])]"
      ]
     },
     "metadata": {},
     "execution_count": 7
    }
   ],
   "source": [
    "w = [\n",
    "    Matrix([[1,0,0]]), \n",
    "    Matrix([[1,0,0]]), \n",
    "    Matrix([[1,0,0]]), \n",
    "    # Matrix([[1,0,0]])\n",
    "]\n",
    "\n",
    "w0,w1 = w.pop(0), w.pop(0)\n",
    "decomp = td(w0,w1)\n",
    "decomp"
   ]
  },
  {
   "cell_type": "code",
   "execution_count": 8,
   "metadata": {},
   "outputs": [],
   "source": [
    "while len(w)>0:\n",
    "    j = w.pop(0)\n",
    "    results = []\n",
    "    for i in decomp:\n",
    "        res= td(i, j)\n",
    "        # print(i,\"X\",j,\"=\",res)\n",
    "        results += res\n",
    "    "
   ]
  },
  {
   "cell_type": "code",
   "execution_count": 9,
   "metadata": {},
   "outputs": [
    {
     "output_type": "execute_result",
     "data": {
      "text/plain": [
       "[Matrix([[0, 0, 1]]),\n",
       " Matrix([[1, 1, 0]]),\n",
       " Matrix([[0, 0, 1]]),\n",
       " Matrix([[0, 0, 1]]),\n",
       " Matrix([[1, 1, 0]]),\n",
       " Matrix([[3, 0, 0]])]"
      ]
     },
     "metadata": {},
     "execution_count": 9
    }
   ],
   "source": [
    "results"
   ]
  },
  {
   "cell_type": "code",
   "execution_count": 11,
   "metadata": {},
   "outputs": [],
   "source": [
    "td(Matrix([[2, 0, 0]]), Matrix([[1, 0, 0]]))"
   ]
  },
  {
   "cell_type": "code",
   "execution_count": null,
   "metadata": {},
   "outputs": [],
   "source": []
  }
 ],
 "metadata": {
  "kernelspec": {
   "name": "python385jvsc74a57bd0cb415529c3b446cd5ca1eb46a1bc560260efe8bdfadabb86beaeb2edbe87a219",
   "display_name": "Python 3.8.5 64-bit ('base': conda)"
  },
  "language_info": {
   "codemirror_mode": {
    "name": "ipython",
    "version": 3
   },
   "file_extension": ".py",
   "mimetype": "text/x-python",
   "name": "python",
   "nbconvert_exporter": "python",
   "pygments_lexer": "ipython3",
   "version": "3.8.5"
  },
  "orig_nbformat": 2
 },
 "nbformat": 4,
 "nbformat_minor": 2
}