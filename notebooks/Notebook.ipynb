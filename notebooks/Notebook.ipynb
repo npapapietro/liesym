{
 "cells": [
  {
   "cell_type": "code",
   "execution_count": 1,
   "metadata": {},
   "outputs": [],
   "source": [
    "import liesym\n"
   ]
  },
  {
   "cell_type": "code",
   "execution_count": 2,
   "metadata": {},
   "outputs": [
    {
     "data": {
      "text/plain": "[Matrix([[1, 0, 0, 0, 0, 0, 0, 0, 0, 1]]),\n Matrix([[-1, 1, 0, 0, 0, 0, 0, 0, 0, 1]]),\n Matrix([[1, 0, 0, 0, 0, 0, 0, 0, 1, -1]]),\n Matrix([[-1, 1, 0, 0, 0, 0, 0, 0, 1, -1]]),\n Matrix([[0, -1, 1, 0, 0, 0, 0, 0, 0, 1]]),\n Matrix([[1, 0, 0, 0, 0, 0, 0, 1, -1, 0]]),\n Matrix([[-1, 1, 0, 0, 0, 0, 0, 1, -1, 0]]),\n Matrix([[0, -1, 1, 0, 0, 0, 0, 0, 1, -1]]),\n Matrix([[0, 0, -1, 1, 0, 0, 0, 0, 0, 1]]),\n Matrix([[1, 0, 0, 0, 0, 0, 1, -1, 0, 0]]),\n Matrix([[-1, 1, 0, 0, 0, 0, 1, -1, 0, 0]]),\n Matrix([[0, -1, 1, 0, 0, 0, 0, 1, -1, 0]]),\n Matrix([[0, 0, -1, 1, 0, 0, 0, 0, 1, -1]]),\n Matrix([[0, 0, 0, -1, 1, 0, 0, 0, 0, 1]]),\n Matrix([[1, 0, 0, 0, 0, 1, -1, 0, 0, 0]]),\n Matrix([[-1, 1, 0, 0, 0, 1, -1, 0, 0, 0]]),\n Matrix([[0, -1, 1, 0, 0, 0, 1, -1, 0, 0]]),\n Matrix([[0, 0, -1, 1, 0, 0, 0, 1, -1, 0]]),\n Matrix([[0, 0, 0, -1, 1, 0, 0, 0, 1, -1]]),\n Matrix([[0, 0, 0, 0, -1, 1, 0, 0, 0, 1]]),\n Matrix([[1, 0, 0, 0, 1, -1, 0, 0, 0, 0]]),\n Matrix([[-1, 1, 0, 0, 1, -1, 0, 0, 0, 0]]),\n Matrix([[0, -1, 1, 0, 0, 1, -1, 0, 0, 0]]),\n Matrix([[0, 0, -1, 1, 0, 0, 1, -1, 0, 0]]),\n Matrix([[0, 0, 0, -1, 1, 0, 0, 1, -1, 0]]),\n Matrix([[0, 0, 0, 0, -1, 1, 0, 0, 1, -1]]),\n Matrix([[0, 0, 0, 0, 0, -1, 1, 0, 0, 1]]),\n Matrix([[1, 0, 0, 1, -1, 0, 0, 0, 0, 0]]),\n Matrix([[-1, 1, 0, 1, -1, 0, 0, 0, 0, 0]]),\n Matrix([[0, -1, 1, 0, 1, -1, 0, 0, 0, 0]]),\n Matrix([[0, 0, -1, 1, 0, 1, -1, 0, 0, 0]]),\n Matrix([[0, 0, 0, -1, 1, 0, 1, -1, 0, 0]]),\n Matrix([[0, 0, 0, 0, -1, 1, 0, 1, -1, 0]]),\n Matrix([[0, 0, 0, 0, 0, -1, 1, 0, 1, -1]]),\n Matrix([[0, 0, 0, 0, 0, 0, -1, 1, 0, 1]]),\n Matrix([[1, 0, 1, -1, 0, 0, 0, 0, 0, 0]]),\n Matrix([[-1, 1, 1, -1, 0, 0, 0, 0, 0, 0]]),\n Matrix([[0, -1, 1, 1, -1, 0, 0, 0, 0, 0]]),\n Matrix([[0, 0, -1, 1, 1, -1, 0, 0, 0, 0]]),\n Matrix([[0, 0, 0, -1, 1, 1, -1, 0, 0, 0]]),\n Matrix([[0, 0, 0, 0, -1, 1, 1, -1, 0, 0]]),\n Matrix([[0, 0, 0, 0, 0, -1, 1, 1, -1, 0]]),\n Matrix([[0, 0, 0, 0, 0, 0, -1, 1, 1, -1]]),\n Matrix([[0, 0, 0, 0, 0, 0, 0, -1, 1, 1]]),\n Matrix([[1, 1, -1, 0, 0, 0, 0, 0, 0, 0]]),\n Matrix([[-1, 2, -1, 0, 0, 0, 0, 0, 0, 0]]),\n Matrix([[0, -1, 2, -1, 0, 0, 0, 0, 0, 0]]),\n Matrix([[0, 0, -1, 2, -1, 0, 0, 0, 0, 0]]),\n Matrix([[0, 0, 0, -1, 2, -1, 0, 0, 0, 0]]),\n Matrix([[0, 0, 0, 0, -1, 2, -1, 0, 0, 0]]),\n Matrix([[0, 0, 0, 0, 0, -1, 2, -1, 0, 0]]),\n Matrix([[0, 0, 0, 0, 0, 0, -1, 2, -1, 0]]),\n Matrix([[0, 0, 0, 0, 0, 0, 0, -1, 2, -1]]),\n Matrix([[0, 0, 0, 0, 0, 0, 0, 0, -1, 2]]),\n Matrix([[2, -1, 0, 0, 0, 0, 0, 0, 0, 0]])]"
     },
     "execution_count": 2,
     "metadata": {},
     "output_type": "execute_result"
    }
   ],
   "source": [
    "liesym.A(10).positive_roots"
   ]
  },
  {
   "cell_type": "code",
   "execution_count": null,
   "metadata": {},
   "outputs": [],
   "source": []
  }
 ],
 "metadata": {
  "kernelspec": {
   "display_name": "Python 3.9.1 64-bit ('liesym': conda)",
   "metadata": {
    "interpreter": {
     "hash": "af2c289b5a35d0b52b97981e59dc36e1f2c1174a7cd60136c4a14e41de2f0edb"
    }
   },
   "name": "python3"
  },
  "language_info": {
   "codemirror_mode": {
    "name": "ipython",
    "version": 3
   },
   "file_extension": ".py",
   "mimetype": "text/x-python",
   "name": "python",
   "nbconvert_exporter": "python",
   "pygments_lexer": "ipython3",
   "version": "3.9.1"
  },
  "orig_nbformat": 2
 },
 "nbformat": 4,
 "nbformat_minor": 2
}