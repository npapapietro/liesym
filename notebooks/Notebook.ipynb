{
 "cells": [
  {
   "cell_type": "code",
   "execution_count": 1,
   "metadata": {},
   "outputs": [],
   "source": [
    "%load_ext autoreload\n",
    "%autoreload 2\n",
    "\n",
    "import os\n",
    "os.chdir(\"..\")\n",
    "import liesym\n",
    "from sympy import Matrix, Rational\n",
    "\n"
   ]
  },
  {
   "cell_type": "code",
   "execution_count": 2,
   "metadata": {},
   "outputs": [
    {
     "output_type": "execute_result",
     "data": {
      "text/plain": [
       "[Matrix([[1, 1, 0]]),\n",
       " Matrix([[1, 0, 1]]),\n",
       " Matrix([[2, 0, 0]]),\n",
       " Matrix([[0, 3, 0]]),\n",
       " Matrix([[0, 0, 3]])]"
      ]
     },
     "metadata": {},
     "execution_count": 2
    }
   ],
   "source": [
    "adj = Matrix([[0,0,1]])\n",
    "d = liesym.D(3)\n",
    "d.get_irrep_by_dim(20)\n",
    "\n",
    "\n"
   ]
  }
 ],
 "metadata": {
  "kernelspec": {
   "name": "python385jvsc74a57bd0cb415529c3b446cd5ca1eb46a1bc560260efe8bdfadabb86beaeb2edbe87a219",
   "display_name": "Python 3.8.5 64-bit ('base': conda)"
  },
  "language_info": {
   "codemirror_mode": {
    "name": "ipython",
    "version": 3
   },
   "file_extension": ".py",
   "mimetype": "text/x-python",
   "name": "python",
   "nbconvert_exporter": "python",
   "pygments_lexer": "ipython3",
   "version": "3.8.5"
  },
  "orig_nbformat": 2
 },
 "nbformat": 4,
 "nbformat_minor": 2
}